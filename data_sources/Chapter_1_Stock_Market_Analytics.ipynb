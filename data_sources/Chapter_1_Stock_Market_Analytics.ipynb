{
  "nbformat": 4,
  "nbformat_minor": 0,
  "metadata": {
    "colab": {
      "provenance": []
    },
    "kernelspec": {
      "name": "python3",
      "display_name": "Python 3"
    },
    "language_info": {
      "name": "python"
    }
  },
  "cells": [
    {
      "cell_type": "code",
      "source": [
        "# install the yfinance library\n",
        "!pip install yfinance"
      ],
      "metadata": {
        "colab": {
          "base_uri": "https://localhost:8080/"
        },
        "id": "Q2Tlvbm30Ree",
        "outputId": "33974a62-5a5d-430a-c90d-da22770aa874"
      },
      "execution_count": null,
      "outputs": [
        {
          "output_type": "stream",
          "name": "stdout",
          "text": [
            "Requirement already satisfied: yfinance in /usr/local/lib/python3.11/dist-packages (0.2.61)\n",
            "Requirement already satisfied: pandas>=1.3.0 in /usr/local/lib/python3.11/dist-packages (from yfinance) (2.2.2)\n",
            "Requirement already satisfied: numpy>=1.16.5 in /usr/local/lib/python3.11/dist-packages (from yfinance) (2.0.2)\n",
            "Requirement already satisfied: requests>=2.31 in /usr/local/lib/python3.11/dist-packages (from yfinance) (2.32.3)\n",
            "Requirement already satisfied: multitasking>=0.0.7 in /usr/local/lib/python3.11/dist-packages (from yfinance) (0.0.11)\n",
            "Requirement already satisfied: platformdirs>=2.0.0 in /usr/local/lib/python3.11/dist-packages (from yfinance) (4.3.8)\n",
            "Requirement already satisfied: pytz>=2022.5 in /usr/local/lib/python3.11/dist-packages (from yfinance) (2025.2)\n",
            "Requirement already satisfied: frozendict>=2.3.4 in /usr/local/lib/python3.11/dist-packages (from yfinance) (2.4.6)\n",
            "Requirement already satisfied: peewee>=3.16.2 in /usr/local/lib/python3.11/dist-packages (from yfinance) (3.18.1)\n",
            "Requirement already satisfied: beautifulsoup4>=4.11.1 in /usr/local/lib/python3.11/dist-packages (from yfinance) (4.13.4)\n",
            "Requirement already satisfied: curl_cffi>=0.7 in /usr/local/lib/python3.11/dist-packages (from yfinance) (0.11.1)\n",
            "Requirement already satisfied: protobuf>=3.19.0 in /usr/local/lib/python3.11/dist-packages (from yfinance) (5.29.4)\n",
            "Requirement already satisfied: websockets>=13.0 in /usr/local/lib/python3.11/dist-packages (from yfinance) (15.0.1)\n",
            "Requirement already satisfied: soupsieve>1.2 in /usr/local/lib/python3.11/dist-packages (from beautifulsoup4>=4.11.1->yfinance) (2.7)\n",
            "Requirement already satisfied: typing-extensions>=4.0.0 in /usr/local/lib/python3.11/dist-packages (from beautifulsoup4>=4.11.1->yfinance) (4.13.2)\n",
            "Requirement already satisfied: cffi>=1.12.0 in /usr/local/lib/python3.11/dist-packages (from curl_cffi>=0.7->yfinance) (1.17.1)\n",
            "Requirement already satisfied: certifi>=2024.2.2 in /usr/local/lib/python3.11/dist-packages (from curl_cffi>=0.7->yfinance) (2025.4.26)\n",
            "Requirement already satisfied: python-dateutil>=2.8.2 in /usr/local/lib/python3.11/dist-packages (from pandas>=1.3.0->yfinance) (2.9.0.post0)\n",
            "Requirement already satisfied: tzdata>=2022.7 in /usr/local/lib/python3.11/dist-packages (from pandas>=1.3.0->yfinance) (2025.2)\n",
            "Requirement already satisfied: charset-normalizer<4,>=2 in /usr/local/lib/python3.11/dist-packages (from requests>=2.31->yfinance) (3.4.2)\n",
            "Requirement already satisfied: idna<4,>=2.5 in /usr/local/lib/python3.11/dist-packages (from requests>=2.31->yfinance) (3.10)\n",
            "Requirement already satisfied: urllib3<3,>=1.21.1 in /usr/local/lib/python3.11/dist-packages (from requests>=2.31->yfinance) (2.4.0)\n",
            "Requirement already satisfied: pycparser in /usr/local/lib/python3.11/dist-packages (from cffi>=1.12.0->curl_cffi>=0.7->yfinance) (2.22)\n",
            "Requirement already satisfied: six>=1.5 in /usr/local/lib/python3.11/dist-packages (from python-dateutil>=2.8.2->pandas>=1.3.0->yfinance) (1.17.0)\n"
          ]
        }
      ]
    },
    {
      "cell_type": "code",
      "execution_count": null,
      "metadata": {
        "id": "uljzxd1h4tmX"
      },
      "outputs": [],
      "source": [
        "import pandas as pd\n",
        "import numpy as np\n",
        "\n",
        "from datetime import datetime as dt\n",
        "\n",
        "#fin data sources\n",
        "import yfinance as yf"
      ]
    },
    {
      "cell_type": "markdown",
      "source": [
        "## Question 1"
      ],
      "metadata": {
        "id": "udXBI6eQ0HcF"
      }
    },
    {
      "cell_type": "code",
      "source": [
        "sp_500_df = pd.read_html(io=\"https://en.wikipedia.org/wiki/List_of_S%26P_500_companies\")[0] # Return first table containing date added feature"
      ],
      "metadata": {
        "id": "_ywyeQF_rpts"
      },
      "execution_count": null,
      "outputs": []
    },
    {
      "cell_type": "code",
      "source": [
        "sp_500_df['Date added'] = pd.to_datetime(sp_500_df['Date added'])"
      ],
      "metadata": {
        "id": "o9R0Haf2sKJY"
      },
      "execution_count": null,
      "outputs": []
    },
    {
      "cell_type": "code",
      "source": [
        "sp_500_df['Year added'] = sp_500_df['Date added'].apply(lambda x: x.year)"
      ],
      "metadata": {
        "id": "ADJpjKdstNTI"
      },
      "execution_count": null,
      "outputs": []
    },
    {
      "cell_type": "code",
      "source": [
        "yearly_additions_sp500 = sp_500_df.groupby('Year added').agg(NUM_OF_COMPANIES_ADDED= ('Symbol', 'count')).reset_index()"
      ],
      "metadata": {
        "id": "rDbSrfShtUCY"
      },
      "execution_count": null,
      "outputs": []
    },
    {
      "cell_type": "code",
      "source": [
        "# 2017 was the most recent year with the highest number of additions (23) to the S&P 500\n",
        "yearly_additions_sp500.query('`Year added` != 1957').sort_values(by=['NUM_OF_COMPANIES_ADDED', 'Year added'], ascending=False).head(n=1)"
      ],
      "metadata": {
        "colab": {
          "base_uri": "https://localhost:8080/",
          "height": 81
        },
        "id": "19RJSc0Xtgug",
        "outputId": "48338ac7-9672-4a6d-89c0-0ac7d65fe985"
      },
      "execution_count": null,
      "outputs": [
        {
          "output_type": "execute_result",
          "data": {
            "text/plain": [
              "    Year added  NUM_OF_COMPANIES_ADDED\n",
              "48        2017                      23"
            ],
            "text/html": [
              "\n",
              "  <div id=\"df-29ed44d4-ac50-4aeb-9736-e21cc5e74670\" class=\"colab-df-container\">\n",
              "    <div>\n",
              "<style scoped>\n",
              "    .dataframe tbody tr th:only-of-type {\n",
              "        vertical-align: middle;\n",
              "    }\n",
              "\n",
              "    .dataframe tbody tr th {\n",
              "        vertical-align: top;\n",
              "    }\n",
              "\n",
              "    .dataframe thead th {\n",
              "        text-align: right;\n",
              "    }\n",
              "</style>\n",
              "<table border=\"1\" class=\"dataframe\">\n",
              "  <thead>\n",
              "    <tr style=\"text-align: right;\">\n",
              "      <th></th>\n",
              "      <th>Year added</th>\n",
              "      <th>NUM_OF_COMPANIES_ADDED</th>\n",
              "    </tr>\n",
              "  </thead>\n",
              "  <tbody>\n",
              "    <tr>\n",
              "      <th>48</th>\n",
              "      <td>2017</td>\n",
              "      <td>23</td>\n",
              "    </tr>\n",
              "  </tbody>\n",
              "</table>\n",
              "</div>\n",
              "    <div class=\"colab-df-buttons\">\n",
              "\n",
              "  <div class=\"colab-df-container\">\n",
              "    <button class=\"colab-df-convert\" onclick=\"convertToInteractive('df-29ed44d4-ac50-4aeb-9736-e21cc5e74670')\"\n",
              "            title=\"Convert this dataframe to an interactive table.\"\n",
              "            style=\"display:none;\">\n",
              "\n",
              "  <svg xmlns=\"http://www.w3.org/2000/svg\" height=\"24px\" viewBox=\"0 -960 960 960\">\n",
              "    <path d=\"M120-120v-720h720v720H120Zm60-500h600v-160H180v160Zm220 220h160v-160H400v160Zm0 220h160v-160H400v160ZM180-400h160v-160H180v160Zm440 0h160v-160H620v160ZM180-180h160v-160H180v160Zm440 0h160v-160H620v160Z\"/>\n",
              "  </svg>\n",
              "    </button>\n",
              "\n",
              "  <style>\n",
              "    .colab-df-container {\n",
              "      display:flex;\n",
              "      gap: 12px;\n",
              "    }\n",
              "\n",
              "    .colab-df-convert {\n",
              "      background-color: #E8F0FE;\n",
              "      border: none;\n",
              "      border-radius: 50%;\n",
              "      cursor: pointer;\n",
              "      display: none;\n",
              "      fill: #1967D2;\n",
              "      height: 32px;\n",
              "      padding: 0 0 0 0;\n",
              "      width: 32px;\n",
              "    }\n",
              "\n",
              "    .colab-df-convert:hover {\n",
              "      background-color: #E2EBFA;\n",
              "      box-shadow: 0px 1px 2px rgba(60, 64, 67, 0.3), 0px 1px 3px 1px rgba(60, 64, 67, 0.15);\n",
              "      fill: #174EA6;\n",
              "    }\n",
              "\n",
              "    .colab-df-buttons div {\n",
              "      margin-bottom: 4px;\n",
              "    }\n",
              "\n",
              "    [theme=dark] .colab-df-convert {\n",
              "      background-color: #3B4455;\n",
              "      fill: #D2E3FC;\n",
              "    }\n",
              "\n",
              "    [theme=dark] .colab-df-convert:hover {\n",
              "      background-color: #434B5C;\n",
              "      box-shadow: 0px 1px 3px 1px rgba(0, 0, 0, 0.15);\n",
              "      filter: drop-shadow(0px 1px 2px rgba(0, 0, 0, 0.3));\n",
              "      fill: #FFFFFF;\n",
              "    }\n",
              "  </style>\n",
              "\n",
              "    <script>\n",
              "      const buttonEl =\n",
              "        document.querySelector('#df-29ed44d4-ac50-4aeb-9736-e21cc5e74670 button.colab-df-convert');\n",
              "      buttonEl.style.display =\n",
              "        google.colab.kernel.accessAllowed ? 'block' : 'none';\n",
              "\n",
              "      async function convertToInteractive(key) {\n",
              "        const element = document.querySelector('#df-29ed44d4-ac50-4aeb-9736-e21cc5e74670');\n",
              "        const dataTable =\n",
              "          await google.colab.kernel.invokeFunction('convertToInteractive',\n",
              "                                                    [key], {});\n",
              "        if (!dataTable) return;\n",
              "\n",
              "        const docLinkHtml = 'Like what you see? Visit the ' +\n",
              "          '<a target=\"_blank\" href=https://colab.research.google.com/notebooks/data_table.ipynb>data table notebook</a>'\n",
              "          + ' to learn more about interactive tables.';\n",
              "        element.innerHTML = '';\n",
              "        dataTable['output_type'] = 'display_data';\n",
              "        await google.colab.output.renderOutput(dataTable, element);\n",
              "        const docLink = document.createElement('div');\n",
              "        docLink.innerHTML = docLinkHtml;\n",
              "        element.appendChild(docLink);\n",
              "      }\n",
              "    </script>\n",
              "  </div>\n",
              "\n",
              "\n",
              "    </div>\n",
              "  </div>\n"
            ],
            "application/vnd.google.colaboratory.intrinsic+json": {
              "type": "dataframe",
              "summary": "{\n  \"name\": \"yearly_additions_sp500\",\n  \"rows\": 1,\n  \"fields\": [\n    {\n      \"column\": \"Year added\",\n      \"properties\": {\n        \"dtype\": \"number\",\n        \"std\": null,\n        \"min\": 2017,\n        \"max\": 2017,\n        \"num_unique_values\": 1,\n        \"samples\": [\n          2017\n        ],\n        \"semantic_type\": \"\",\n        \"description\": \"\"\n      }\n    },\n    {\n      \"column\": \"NUM_OF_COMPANIES_ADDED\",\n      \"properties\": {\n        \"dtype\": \"number\",\n        \"std\": null,\n        \"min\": 23,\n        \"max\": 23,\n        \"num_unique_values\": 1,\n        \"samples\": [\n          23\n        ],\n        \"semantic_type\": \"\",\n        \"description\": \"\"\n      }\n    }\n  ]\n}"
            }
          },
          "metadata": {},
          "execution_count": 7
        }
      ]
    },
    {
      "cell_type": "code",
      "source": [
        "\n",
        "current_year = dt.now().year\n",
        "\n",
        "sp_500_stocks_gr_20_years =  sp_500_df.query(' @current_year -  `Year added` >= 20').shape[0]\n",
        "\n",
        "print(f\"There are {sp_500_stocks_gr_20_years} stocks that have been in the index for more than 20 years\")"
      ],
      "metadata": {
        "colab": {
          "base_uri": "https://localhost:8080/"
        },
        "id": "fCPUlfEEuExJ",
        "outputId": "8c9cd80a-9335-4f9a-e7a1-3e52b6b44fe5"
      },
      "execution_count": null,
      "outputs": [
        {
          "output_type": "stream",
          "name": "stdout",
          "text": [
            "There are 226 stocks that have been in the index for more than 20 years\n"
          ]
        }
      ]
    },
    {
      "cell_type": "markdown",
      "source": [
        "## Question 2"
      ],
      "metadata": {
        "id": "uoqXFlNX0DkP"
      }
    },
    {
      "cell_type": "code",
      "source": [
        "def get_ytd_return(ticker_symbol: yf.ticker.Ticker, start_dt: str, end_dt: str) -> float:\n",
        "\n",
        "  ticker = yf.Ticker(ticker=ticker_symbol)\n",
        "\n",
        "  ticker_df = ticker.history(start=start_dt, end=end_dt).reset_index().sort_values(by='Date')\n",
        "\n",
        "\n",
        "  return (ticker_df.tail(n=1)['Close'].values[0] - ticker_df.head(n=1)['Close'].values[0]) / ticker_df.head(n=1)['Close'].values[0]\n"
      ],
      "metadata": {
        "id": "3QZd00Xt2CUm"
      },
      "execution_count": null,
      "outputs": []
    },
    {
      "cell_type": "code",
      "source": [
        "sp500_ytd_return = get_ytd_return(ticker_symbol=\"^GSPC\", start_dt=\"2025-01-01\", end_dt=\"2025-05-01\")\n"
      ],
      "metadata": {
        "id": "WfhbvazPuwTY"
      },
      "execution_count": null,
      "outputs": []
    },
    {
      "cell_type": "code",
      "source": [
        "world_indice_ytd_return_gr_sp500 = {}\n",
        "\n",
        "for ticker_symbol in [\"000001.SS\", \"^HSI\", \"^AXJO\", \"^NSEI\", \"^GSPTSE\", \"^GDAXI\", \"^FTSE\", \"^N225\", \"^MXX\", \"^BVSP\"]:\n",
        "\n",
        "  ticker_ytd_return = get_ytd_return(ticker_symbol=ticker_symbol, start_dt=\"2025-01-01\", end_dt=\"2025-05-01\")\n",
        "\n",
        "  if ticker_ytd_return > sp500_ytd_return:\n",
        "    world_indice_ytd_return_gr_sp500[ticker_symbol] = ticker_ytd_return\n"
      ],
      "metadata": {
        "id": "O1f70an009sU"
      },
      "execution_count": null,
      "outputs": []
    },
    {
      "cell_type": "code",
      "source": [
        "print(f\"The following world indices have a better YTD Return % than the S&P 500 YTD Return % ({sp500_ytd_return:.2%})\\n{world_indice_ytd_return_gr_sp500}\")"
      ],
      "metadata": {
        "colab": {
          "base_uri": "https://localhost:8080/"
        },
        "id": "CIexXZp63yPV",
        "outputId": "4ba91677-1236-4bf1-fb58-0bbe8934c68c"
      },
      "execution_count": null,
      "outputs": [
        {
          "output_type": "stream",
          "name": "stdout",
          "text": [
            "The following world indices have a better YTD Return % than the S&P 500 YTD Return % (-5.10%)\n",
            "{'000001.SS': np.float64(0.00504817244050002), '^HSI': np.float64(0.12720017835921466), '^AXJO': np.float64(-0.009145002952478493), '^NSEI': np.float64(0.024904237409784914), '^GSPTSE': np.float64(-0.002261257179291509), '^GDAXI': np.float64(0.1234637838149953), '^FTSE': np.float64(0.028425901908435483), '^MXX': np.float64(0.1304944445757032), '^BVSP': np.float64(0.12438709677419355)}\n"
          ]
        }
      ]
    },
    {
      "cell_type": "code",
      "source": [
        "# 3 years\n",
        "\n",
        "sp500_3_yr_return = get_ytd_return(ticker_symbol=\"^GSPC\", start_dt=\"2022-05-01\", end_dt=\"2025-05-01\")\n",
        "\n",
        "world_indice_3yr_return_gr_sp500 = {}\n",
        "\n",
        "for ticker_symbol in [\"000001.SS\", \"^HSI\", \"^AXJO\", \"^NSEI\", \"^GSPTSE\", \"^GDAXI\", \"^FTSE\", \"^N225\", \"^MXX\", \"^BVSP\"]:\n",
        "\n",
        "  ticker_3yr_return = get_ytd_return(ticker_symbol=ticker_symbol, start_dt=\"2022-05-01\", end_dt=\"2025-05-01\")\n",
        "\n",
        "  if ticker_3yr_return > sp500_3_yr_return:\n",
        "    world_indice_3yr_return_gr_sp500[ticker_symbol] = ticker_3yr_return\n"
      ],
      "metadata": {
        "id": "sndIBr7I5ZPN"
      },
      "execution_count": null,
      "outputs": []
    },
    {
      "cell_type": "code",
      "source": [
        "print(f\"The following world indices have a better 3yr Return % than the S&P 500 YTD Return % ({sp500_3_yr_return:.2%})\\n{world_indice_3yr_return_gr_sp500}\")"
      ],
      "metadata": {
        "colab": {
          "base_uri": "https://localhost:8080/"
        },
        "id": "DdMgKXLhjSnC",
        "outputId": "0e7e14b8-00db-4f89-bba6-ad0b9e0cc6cc"
      },
      "execution_count": null,
      "outputs": [
        {
          "output_type": "stream",
          "name": "stdout",
          "text": [
            "The following world indices have a better 3yr Return % than the S&P 500 YTD Return % (34.02%)\n",
            "{'^NSEI': np.float64(0.4256287546289044), '^GDAXI': np.float64(0.6139512868785524), '^N225': np.float64(0.3440475615659561)}\n"
          ]
        }
      ]
    },
    {
      "cell_type": "code",
      "source": [
        "# 5 years\n",
        "\n",
        "sp500_5_yr_return = get_ytd_return(ticker_symbol=\"^GSPC\", start_dt=\"2020-05-01\", end_dt=\"2025-05-01\")\n",
        "\n",
        "world_indice_5yr_return_gr_sp500 = {}\n",
        "\n",
        "for ticker_symbol in [\"000001.SS\", \"^HSI\", \"^AXJO\", \"^NSEI\", \"^GSPTSE\", \"^GDAXI\", \"^FTSE\", \"^N225\", \"^MXX\", \"^BVSP\"]:\n",
        "\n",
        "  ticker_5yr_return = get_ytd_return(ticker_symbol=ticker_symbol, start_dt=\"2020-05-01\", end_dt=\"2025-05-01\")\n",
        "\n",
        "  if ticker_5yr_return > sp500_5_yr_return:\n",
        "    world_indice_5yr_return_gr_sp500[ticker_symbol] = ticker_5yr_return\n"
      ],
      "metadata": {
        "id": "M5mVgy72jV9m"
      },
      "execution_count": null,
      "outputs": []
    },
    {
      "cell_type": "code",
      "source": [
        "print(f\"The following world indices have a better 5yr Return % than the S&P 500 YTD Return % ({sp500_5_yr_return:.2%})\\n{world_indice_5yr_return_gr_sp500}\")"
      ],
      "metadata": {
        "colab": {
          "base_uri": "https://localhost:8080/"
        },
        "id": "8HtguIomjlRS",
        "outputId": "831fc19b-30bf-4e29-90ed-9d2e81fa5dba"
      },
      "execution_count": null,
      "outputs": [
        {
          "output_type": "stream",
          "name": "stdout",
          "text": [
            "The following world indices have a better 5yr Return % than the S&P 500 YTD Return % (96.74%)\n",
            "{'^NSEI': np.float64(1.6184106331037822), '^GDAXI': np.float64(1.1493656980689406)}\n"
          ]
        }
      ]
    },
    {
      "cell_type": "code",
      "source": [
        "# 10 years\n",
        "\n",
        "sp500_10_yr_return = get_ytd_return(ticker_symbol=\"^GSPC\", start_dt=\"2015-05-01\", end_dt=\"2025-05-01\")\n",
        "\n",
        "world_indice_10yr_return_gr_sp500 = {}\n",
        "\n",
        "for ticker_symbol in [\"000001.SS\", \"^HSI\", \"^AXJO\", \"^NSEI\", \"^GSPTSE\", \"^GDAXI\", \"^FTSE\", \"^N225\", \"^MXX\", \"^BVSP\"]:\n",
        "\n",
        "  ticker_10yr_return = get_ytd_return(ticker_symbol=ticker_symbol, start_dt=\"2015-05-01\", end_dt=\"2025-05-01\")\n",
        "\n",
        "  if ticker_10yr_return > sp500_10_yr_return:\n",
        "    world_indice_10yr_return_gr_sp500[ticker_symbol] = ticker_10yr_return\n"
      ],
      "metadata": {
        "id": "tGqosOwfjo_Y"
      },
      "execution_count": null,
      "outputs": []
    },
    {
      "cell_type": "code",
      "source": [
        "print(f\"The following world indices have a better 10yr Return % than the S&P 500 YTD Return % ({sp500_10_yr_return:.2%})\\n{world_indice_10yr_return_gr_sp500}\")"
      ],
      "metadata": {
        "colab": {
          "base_uri": "https://localhost:8080/"
        },
        "id": "HI4mdTCAj54X",
        "outputId": "fe2eb3c3-b703-4883-99e0-2d319babee67"
      },
      "execution_count": null,
      "outputs": [
        {
          "output_type": "stream",
          "name": "stdout",
          "text": [
            "The following world indices have a better 10yr Return % than the S&P 500 YTD Return % (164.15%)\n",
            "{'^NSEI': np.float64(1.920588655515519)}\n"
          ]
        }
      ]
    },
    {
      "cell_type": "markdown",
      "source": [
        "## Question 3"
      ],
      "metadata": {
        "id": "nTLq45K4mIm5"
      }
    },
    {
      "cell_type": "code",
      "source": [
        "# correction = stock index goes down by more than 5% from the closest all-time high max\n",
        "\n",
        "ticker = yf.Ticker(ticker=\"^GSPC\")\n",
        "\n",
        "ticker_df = ticker.history(start=\"1950-01-01\", end=dt.now().strftime(\"%Y-%m-%d\")).reset_index().sort_values(by='Date')"
      ],
      "metadata": {
        "id": "QZ6PO5ENk3p-"
      },
      "execution_count": null,
      "outputs": []
    },
    {
      "cell_type": "code",
      "source": [
        "ticker_df['Close_High_Points'] = ticker_df['Close'].cummax()"
      ],
      "metadata": {
        "id": "vc50Enucm2AM"
      },
      "execution_count": null,
      "outputs": []
    },
    {
      "cell_type": "code",
      "source": [
        "sp500_high_points = ticker_df.groupby('Close_High_Points').agg(FIRST_DT = ('Date', 'min')).reset_index()"
      ],
      "metadata": {
        "id": "yRMhTp_rpMn_"
      },
      "execution_count": null,
      "outputs": []
    },
    {
      "cell_type": "code",
      "source": [
        "sp500_high_points.shape"
      ],
      "metadata": {
        "colab": {
          "base_uri": "https://localhost:8080/"
        },
        "id": "k0Tkoy7Lt1ho",
        "outputId": "33f01b7a-6434-4465-b496-9a3d29a7b3cd"
      },
      "execution_count": null,
      "outputs": [
        {
          "output_type": "execute_result",
          "data": {
            "text/plain": [
              "(1447, 2)"
            ]
          },
          "metadata": {},
          "execution_count": 64
        }
      ]
    },
    {
      "cell_type": "code",
      "source": [
        "drawdown_lst = []\n",
        "\n",
        "for idx, row in sp500_high_points.iterrows():\n",
        "  if idx == 0:\n",
        "    continue\n",
        "  else:\n",
        "    prev_high_point = sp500_high_points.loc[idx-1, 'FIRST_DT']\n",
        "    current_high_point = sp500_high_points.loc[idx, 'FIRST_DT']\n",
        "    drawdown_dt_range =  ticker_df.query('Date >= @prev_high_point and Date <= @current_high_point')\n",
        "\n",
        "    if drawdown_dt_range.shape[0] > 2: # Filter out dates in the early stages where the price is increasing each consecutive day\n",
        "      min_price = drawdown_dt_range['Close'].min()\n",
        "\n",
        "\n",
        "\n",
        "      prev_high_price = sp500_high_points.loc[idx-1, 'Close_High_Points']\n",
        "\n",
        "      drawdown = (prev_high_price - min_price) / prev_high_price * 100.0\n",
        "\n",
        "      if drawdown >= 5.00:\n",
        "        min_price_dt = drawdown_dt_range.query('Close == @min_price').sort_values(by='Date', ascending=False).reset_index().loc[0, 'Date']  #Get the last date in the drawdown range with the lowest price, in case the lowest price appears more than once\n",
        "\n",
        "        drawdown_duration = min_price_dt - prev_high_point\n",
        "\n",
        "        drawdown_lst.append([prev_high_point, min_price_dt, drawdown_duration, drawdown])\n",
        "\n"
      ],
      "metadata": {
        "id": "z15sQzTyrwjt"
      },
      "execution_count": 89,
      "outputs": []
    },
    {
      "cell_type": "code",
      "source": [
        "drawdown_df = pd.DataFrame(drawdown_lst, columns=[\"Max_Close\", \"Min_Close\", \"Drawdown_Duration\", \"Drawdown_Pct\"])"
      ],
      "metadata": {
        "id": "PNheYXg4s1bd"
      },
      "execution_count": 90,
      "outputs": []
    },
    {
      "cell_type": "code",
      "source": [
        "drawdown_df.sort_values(by='Drawdown_Pct', ascending=False).head(n=10)"
      ],
      "metadata": {
        "id": "t1wHkFpQzteM",
        "colab": {
          "base_uri": "https://localhost:8080/",
          "height": 363
        },
        "outputId": "8d67cdad-eaab-49ce-a00f-5a4332adc062"
      },
      "execution_count": 93,
      "outputs": [
        {
          "output_type": "execute_result",
          "data": {
            "text/plain": [
              "                   Max_Close                 Min_Close Drawdown_Duration  \\\n",
              "56 2007-10-09 00:00:00-04:00 2009-03-09 00:00:00-04:00 517 days 00:00:00   \n",
              "54 2000-03-24 00:00:00-05:00 2002-10-09 00:00:00-04:00 928 days 23:00:00   \n",
              "24 1973-01-11 00:00:00-05:00 1974-10-03 00:00:00-04:00 629 days 23:00:00   \n",
              "22 1968-11-29 00:00:00-05:00 1970-05-26 00:00:00-04:00 542 days 23:00:00   \n",
              "65 2020-02-19 00:00:00-05:00 2020-03-23 00:00:00-04:00  32 days 23:00:00   \n",
              "35 1987-08-25 00:00:00-04:00 1987-12-04 00:00:00-05:00 101 days 01:00:00   \n",
              "15 1961-12-12 00:00:00-05:00 1962-06-26 00:00:00-04:00 195 days 23:00:00   \n",
              "27 1980-11-28 00:00:00-05:00 1982-08-12 00:00:00-04:00 621 days 23:00:00   \n",
              "68 2022-01-03 00:00:00-05:00 2022-10-12 00:00:00-04:00 281 days 23:00:00   \n",
              "18 1966-02-09 00:00:00-05:00 1966-10-07 00:00:00-04:00 239 days 23:00:00   \n",
              "\n",
              "    Drawdown_Pct  \n",
              "56     56.775388  \n",
              "54     49.146948  \n",
              "24     48.203593  \n",
              "22     36.061641  \n",
              "65     33.924960  \n",
              "35     33.509515  \n",
              "15     27.973568  \n",
              "27     27.113582  \n",
              "68     25.425097  \n",
              "18     22.177335  "
            ],
            "text/html": [
              "\n",
              "  <div id=\"df-f347f4a4-d27a-4d4a-976d-9a2f2318446a\" class=\"colab-df-container\">\n",
              "    <div>\n",
              "<style scoped>\n",
              "    .dataframe tbody tr th:only-of-type {\n",
              "        vertical-align: middle;\n",
              "    }\n",
              "\n",
              "    .dataframe tbody tr th {\n",
              "        vertical-align: top;\n",
              "    }\n",
              "\n",
              "    .dataframe thead th {\n",
              "        text-align: right;\n",
              "    }\n",
              "</style>\n",
              "<table border=\"1\" class=\"dataframe\">\n",
              "  <thead>\n",
              "    <tr style=\"text-align: right;\">\n",
              "      <th></th>\n",
              "      <th>Max_Close</th>\n",
              "      <th>Min_Close</th>\n",
              "      <th>Drawdown_Duration</th>\n",
              "      <th>Drawdown_Pct</th>\n",
              "    </tr>\n",
              "  </thead>\n",
              "  <tbody>\n",
              "    <tr>\n",
              "      <th>56</th>\n",
              "      <td>2007-10-09 00:00:00-04:00</td>\n",
              "      <td>2009-03-09 00:00:00-04:00</td>\n",
              "      <td>517 days 00:00:00</td>\n",
              "      <td>56.775388</td>\n",
              "    </tr>\n",
              "    <tr>\n",
              "      <th>54</th>\n",
              "      <td>2000-03-24 00:00:00-05:00</td>\n",
              "      <td>2002-10-09 00:00:00-04:00</td>\n",
              "      <td>928 days 23:00:00</td>\n",
              "      <td>49.146948</td>\n",
              "    </tr>\n",
              "    <tr>\n",
              "      <th>24</th>\n",
              "      <td>1973-01-11 00:00:00-05:00</td>\n",
              "      <td>1974-10-03 00:00:00-04:00</td>\n",
              "      <td>629 days 23:00:00</td>\n",
              "      <td>48.203593</td>\n",
              "    </tr>\n",
              "    <tr>\n",
              "      <th>22</th>\n",
              "      <td>1968-11-29 00:00:00-05:00</td>\n",
              "      <td>1970-05-26 00:00:00-04:00</td>\n",
              "      <td>542 days 23:00:00</td>\n",
              "      <td>36.061641</td>\n",
              "    </tr>\n",
              "    <tr>\n",
              "      <th>65</th>\n",
              "      <td>2020-02-19 00:00:00-05:00</td>\n",
              "      <td>2020-03-23 00:00:00-04:00</td>\n",
              "      <td>32 days 23:00:00</td>\n",
              "      <td>33.924960</td>\n",
              "    </tr>\n",
              "    <tr>\n",
              "      <th>35</th>\n",
              "      <td>1987-08-25 00:00:00-04:00</td>\n",
              "      <td>1987-12-04 00:00:00-05:00</td>\n",
              "      <td>101 days 01:00:00</td>\n",
              "      <td>33.509515</td>\n",
              "    </tr>\n",
              "    <tr>\n",
              "      <th>15</th>\n",
              "      <td>1961-12-12 00:00:00-05:00</td>\n",
              "      <td>1962-06-26 00:00:00-04:00</td>\n",
              "      <td>195 days 23:00:00</td>\n",
              "      <td>27.973568</td>\n",
              "    </tr>\n",
              "    <tr>\n",
              "      <th>27</th>\n",
              "      <td>1980-11-28 00:00:00-05:00</td>\n",
              "      <td>1982-08-12 00:00:00-04:00</td>\n",
              "      <td>621 days 23:00:00</td>\n",
              "      <td>27.113582</td>\n",
              "    </tr>\n",
              "    <tr>\n",
              "      <th>68</th>\n",
              "      <td>2022-01-03 00:00:00-05:00</td>\n",
              "      <td>2022-10-12 00:00:00-04:00</td>\n",
              "      <td>281 days 23:00:00</td>\n",
              "      <td>25.425097</td>\n",
              "    </tr>\n",
              "    <tr>\n",
              "      <th>18</th>\n",
              "      <td>1966-02-09 00:00:00-05:00</td>\n",
              "      <td>1966-10-07 00:00:00-04:00</td>\n",
              "      <td>239 days 23:00:00</td>\n",
              "      <td>22.177335</td>\n",
              "    </tr>\n",
              "  </tbody>\n",
              "</table>\n",
              "</div>\n",
              "    <div class=\"colab-df-buttons\">\n",
              "\n",
              "  <div class=\"colab-df-container\">\n",
              "    <button class=\"colab-df-convert\" onclick=\"convertToInteractive('df-f347f4a4-d27a-4d4a-976d-9a2f2318446a')\"\n",
              "            title=\"Convert this dataframe to an interactive table.\"\n",
              "            style=\"display:none;\">\n",
              "\n",
              "  <svg xmlns=\"http://www.w3.org/2000/svg\" height=\"24px\" viewBox=\"0 -960 960 960\">\n",
              "    <path d=\"M120-120v-720h720v720H120Zm60-500h600v-160H180v160Zm220 220h160v-160H400v160Zm0 220h160v-160H400v160ZM180-400h160v-160H180v160Zm440 0h160v-160H620v160ZM180-180h160v-160H180v160Zm440 0h160v-160H620v160Z\"/>\n",
              "  </svg>\n",
              "    </button>\n",
              "\n",
              "  <style>\n",
              "    .colab-df-container {\n",
              "      display:flex;\n",
              "      gap: 12px;\n",
              "    }\n",
              "\n",
              "    .colab-df-convert {\n",
              "      background-color: #E8F0FE;\n",
              "      border: none;\n",
              "      border-radius: 50%;\n",
              "      cursor: pointer;\n",
              "      display: none;\n",
              "      fill: #1967D2;\n",
              "      height: 32px;\n",
              "      padding: 0 0 0 0;\n",
              "      width: 32px;\n",
              "    }\n",
              "\n",
              "    .colab-df-convert:hover {\n",
              "      background-color: #E2EBFA;\n",
              "      box-shadow: 0px 1px 2px rgba(60, 64, 67, 0.3), 0px 1px 3px 1px rgba(60, 64, 67, 0.15);\n",
              "      fill: #174EA6;\n",
              "    }\n",
              "\n",
              "    .colab-df-buttons div {\n",
              "      margin-bottom: 4px;\n",
              "    }\n",
              "\n",
              "    [theme=dark] .colab-df-convert {\n",
              "      background-color: #3B4455;\n",
              "      fill: #D2E3FC;\n",
              "    }\n",
              "\n",
              "    [theme=dark] .colab-df-convert:hover {\n",
              "      background-color: #434B5C;\n",
              "      box-shadow: 0px 1px 3px 1px rgba(0, 0, 0, 0.15);\n",
              "      filter: drop-shadow(0px 1px 2px rgba(0, 0, 0, 0.3));\n",
              "      fill: #FFFFFF;\n",
              "    }\n",
              "  </style>\n",
              "\n",
              "    <script>\n",
              "      const buttonEl =\n",
              "        document.querySelector('#df-f347f4a4-d27a-4d4a-976d-9a2f2318446a button.colab-df-convert');\n",
              "      buttonEl.style.display =\n",
              "        google.colab.kernel.accessAllowed ? 'block' : 'none';\n",
              "\n",
              "      async function convertToInteractive(key) {\n",
              "        const element = document.querySelector('#df-f347f4a4-d27a-4d4a-976d-9a2f2318446a');\n",
              "        const dataTable =\n",
              "          await google.colab.kernel.invokeFunction('convertToInteractive',\n",
              "                                                    [key], {});\n",
              "        if (!dataTable) return;\n",
              "\n",
              "        const docLinkHtml = 'Like what you see? Visit the ' +\n",
              "          '<a target=\"_blank\" href=https://colab.research.google.com/notebooks/data_table.ipynb>data table notebook</a>'\n",
              "          + ' to learn more about interactive tables.';\n",
              "        element.innerHTML = '';\n",
              "        dataTable['output_type'] = 'display_data';\n",
              "        await google.colab.output.renderOutput(dataTable, element);\n",
              "        const docLink = document.createElement('div');\n",
              "        docLink.innerHTML = docLinkHtml;\n",
              "        element.appendChild(docLink);\n",
              "      }\n",
              "    </script>\n",
              "  </div>\n",
              "\n",
              "\n",
              "    <div id=\"df-685c1d95-3d5f-47b6-9695-2f73e9d38f9a\">\n",
              "      <button class=\"colab-df-quickchart\" onclick=\"quickchart('df-685c1d95-3d5f-47b6-9695-2f73e9d38f9a')\"\n",
              "                title=\"Suggest charts\"\n",
              "                style=\"display:none;\">\n",
              "\n",
              "<svg xmlns=\"http://www.w3.org/2000/svg\" height=\"24px\"viewBox=\"0 0 24 24\"\n",
              "     width=\"24px\">\n",
              "    <g>\n",
              "        <path d=\"M19 3H5c-1.1 0-2 .9-2 2v14c0 1.1.9 2 2 2h14c1.1 0 2-.9 2-2V5c0-1.1-.9-2-2-2zM9 17H7v-7h2v7zm4 0h-2V7h2v10zm4 0h-2v-4h2v4z\"/>\n",
              "    </g>\n",
              "</svg>\n",
              "      </button>\n",
              "\n",
              "<style>\n",
              "  .colab-df-quickchart {\n",
              "      --bg-color: #E8F0FE;\n",
              "      --fill-color: #1967D2;\n",
              "      --hover-bg-color: #E2EBFA;\n",
              "      --hover-fill-color: #174EA6;\n",
              "      --disabled-fill-color: #AAA;\n",
              "      --disabled-bg-color: #DDD;\n",
              "  }\n",
              "\n",
              "  [theme=dark] .colab-df-quickchart {\n",
              "      --bg-color: #3B4455;\n",
              "      --fill-color: #D2E3FC;\n",
              "      --hover-bg-color: #434B5C;\n",
              "      --hover-fill-color: #FFFFFF;\n",
              "      --disabled-bg-color: #3B4455;\n",
              "      --disabled-fill-color: #666;\n",
              "  }\n",
              "\n",
              "  .colab-df-quickchart {\n",
              "    background-color: var(--bg-color);\n",
              "    border: none;\n",
              "    border-radius: 50%;\n",
              "    cursor: pointer;\n",
              "    display: none;\n",
              "    fill: var(--fill-color);\n",
              "    height: 32px;\n",
              "    padding: 0;\n",
              "    width: 32px;\n",
              "  }\n",
              "\n",
              "  .colab-df-quickchart:hover {\n",
              "    background-color: var(--hover-bg-color);\n",
              "    box-shadow: 0 1px 2px rgba(60, 64, 67, 0.3), 0 1px 3px 1px rgba(60, 64, 67, 0.15);\n",
              "    fill: var(--button-hover-fill-color);\n",
              "  }\n",
              "\n",
              "  .colab-df-quickchart-complete:disabled,\n",
              "  .colab-df-quickchart-complete:disabled:hover {\n",
              "    background-color: var(--disabled-bg-color);\n",
              "    fill: var(--disabled-fill-color);\n",
              "    box-shadow: none;\n",
              "  }\n",
              "\n",
              "  .colab-df-spinner {\n",
              "    border: 2px solid var(--fill-color);\n",
              "    border-color: transparent;\n",
              "    border-bottom-color: var(--fill-color);\n",
              "    animation:\n",
              "      spin 1s steps(1) infinite;\n",
              "  }\n",
              "\n",
              "  @keyframes spin {\n",
              "    0% {\n",
              "      border-color: transparent;\n",
              "      border-bottom-color: var(--fill-color);\n",
              "      border-left-color: var(--fill-color);\n",
              "    }\n",
              "    20% {\n",
              "      border-color: transparent;\n",
              "      border-left-color: var(--fill-color);\n",
              "      border-top-color: var(--fill-color);\n",
              "    }\n",
              "    30% {\n",
              "      border-color: transparent;\n",
              "      border-left-color: var(--fill-color);\n",
              "      border-top-color: var(--fill-color);\n",
              "      border-right-color: var(--fill-color);\n",
              "    }\n",
              "    40% {\n",
              "      border-color: transparent;\n",
              "      border-right-color: var(--fill-color);\n",
              "      border-top-color: var(--fill-color);\n",
              "    }\n",
              "    60% {\n",
              "      border-color: transparent;\n",
              "      border-right-color: var(--fill-color);\n",
              "    }\n",
              "    80% {\n",
              "      border-color: transparent;\n",
              "      border-right-color: var(--fill-color);\n",
              "      border-bottom-color: var(--fill-color);\n",
              "    }\n",
              "    90% {\n",
              "      border-color: transparent;\n",
              "      border-bottom-color: var(--fill-color);\n",
              "    }\n",
              "  }\n",
              "</style>\n",
              "\n",
              "      <script>\n",
              "        async function quickchart(key) {\n",
              "          const quickchartButtonEl =\n",
              "            document.querySelector('#' + key + ' button');\n",
              "          quickchartButtonEl.disabled = true;  // To prevent multiple clicks.\n",
              "          quickchartButtonEl.classList.add('colab-df-spinner');\n",
              "          try {\n",
              "            const charts = await google.colab.kernel.invokeFunction(\n",
              "                'suggestCharts', [key], {});\n",
              "          } catch (error) {\n",
              "            console.error('Error during call to suggestCharts:', error);\n",
              "          }\n",
              "          quickchartButtonEl.classList.remove('colab-df-spinner');\n",
              "          quickchartButtonEl.classList.add('colab-df-quickchart-complete');\n",
              "        }\n",
              "        (() => {\n",
              "          let quickchartButtonEl =\n",
              "            document.querySelector('#df-685c1d95-3d5f-47b6-9695-2f73e9d38f9a button');\n",
              "          quickchartButtonEl.style.display =\n",
              "            google.colab.kernel.accessAllowed ? 'block' : 'none';\n",
              "        })();\n",
              "      </script>\n",
              "    </div>\n",
              "\n",
              "    </div>\n",
              "  </div>\n"
            ],
            "application/vnd.google.colaboratory.intrinsic+json": {
              "type": "dataframe",
              "summary": "{\n  \"name\": \"drawdown_df\",\n  \"rows\": 10,\n  \"fields\": [\n    {\n      \"column\": \"Max_Close\",\n      \"properties\": {\n        \"dtype\": \"date\",\n        \"min\": \"1961-12-12 00:00:00-05:00\",\n        \"max\": \"2022-01-03 00:00:00-05:00\",\n        \"num_unique_values\": 10,\n        \"samples\": [\n          \"2022-01-03 00:00:00-05:00\",\n          \"2000-03-24 00:00:00-05:00\",\n          \"1987-08-25 00:00:00-04:00\"\n        ],\n        \"semantic_type\": \"\",\n        \"description\": \"\"\n      }\n    },\n    {\n      \"column\": \"Min_Close\",\n      \"properties\": {\n        \"dtype\": \"date\",\n        \"min\": \"1962-06-26 00:00:00-04:00\",\n        \"max\": \"2022-10-12 00:00:00-04:00\",\n        \"num_unique_values\": 10,\n        \"samples\": [\n          \"2022-10-12 00:00:00-04:00\",\n          \"2002-10-09 00:00:00-04:00\",\n          \"1987-12-04 00:00:00-05:00\"\n        ],\n        \"semantic_type\": \"\",\n        \"description\": \"\"\n      }\n    },\n    {\n      \"column\": \"Drawdown_Duration\",\n      \"properties\": {\n        \"dtype\": \"timedelta64[ns]\",\n        \"num_unique_values\": 10,\n        \"samples\": [\n          \"281 days 23:00:00\",\n          \"928 days 23:00:00\",\n          \"101 days 01:00:00\"\n        ],\n        \"semantic_type\": \"\",\n        \"description\": \"\"\n      }\n    },\n    {\n      \"column\": \"Drawdown_Pct\",\n      \"properties\": {\n        \"dtype\": \"number\",\n        \"std\": 11.59586009590562,\n        \"min\": 22.17733484136764,\n        \"max\": 56.77538774277282,\n        \"num_unique_values\": 10,\n        \"samples\": [\n          25.4250966192304,\n          49.14694789846553,\n          33.5095152555726\n        ],\n        \"semantic_type\": \"\",\n        \"description\": \"\"\n      }\n    }\n  ]\n}"
            }
          },
          "metadata": {},
          "execution_count": 93
        }
      ]
    },
    {
      "cell_type": "code",
      "source": [
        "drawdown_df['Drawdown_Duration'].describe()"
      ],
      "metadata": {
        "colab": {
          "base_uri": "https://localhost:8080/",
          "height": 335
        },
        "id": "4dHrEokl0pms",
        "outputId": "e9a829b7-59fd-4eff-bba1-33bd42a8dfeb"
      },
      "execution_count": 95,
      "outputs": [
        {
          "output_type": "execute_result",
          "data": {
            "text/plain": [
              "count                             71\n",
              "mean     113 days 02:38:01.690140846\n",
              "std      179 days 02:11:26.722984390\n",
              "min                  7 days 00:00:00\n",
              "25%                 21 days 12:00:00\n",
              "50%                 39 days 00:00:00\n",
              "75%                 89 days 00:00:00\n",
              "max                928 days 23:00:00\n",
              "Name: Drawdown_Duration, dtype: object"
            ],
            "text/html": [
              "<div>\n",
              "<style scoped>\n",
              "    .dataframe tbody tr th:only-of-type {\n",
              "        vertical-align: middle;\n",
              "    }\n",
              "\n",
              "    .dataframe tbody tr th {\n",
              "        vertical-align: top;\n",
              "    }\n",
              "\n",
              "    .dataframe thead th {\n",
              "        text-align: right;\n",
              "    }\n",
              "</style>\n",
              "<table border=\"1\" class=\"dataframe\">\n",
              "  <thead>\n",
              "    <tr style=\"text-align: right;\">\n",
              "      <th></th>\n",
              "      <th>Drawdown_Duration</th>\n",
              "    </tr>\n",
              "  </thead>\n",
              "  <tbody>\n",
              "    <tr>\n",
              "      <th>count</th>\n",
              "      <td>71</td>\n",
              "    </tr>\n",
              "    <tr>\n",
              "      <th>mean</th>\n",
              "      <td>113 days 02:38:01.690140846</td>\n",
              "    </tr>\n",
              "    <tr>\n",
              "      <th>std</th>\n",
              "      <td>179 days 02:11:26.722984390</td>\n",
              "    </tr>\n",
              "    <tr>\n",
              "      <th>min</th>\n",
              "      <td>7 days 00:00:00</td>\n",
              "    </tr>\n",
              "    <tr>\n",
              "      <th>25%</th>\n",
              "      <td>21 days 12:00:00</td>\n",
              "    </tr>\n",
              "    <tr>\n",
              "      <th>50%</th>\n",
              "      <td>39 days 00:00:00</td>\n",
              "    </tr>\n",
              "    <tr>\n",
              "      <th>75%</th>\n",
              "      <td>89 days 00:00:00</td>\n",
              "    </tr>\n",
              "    <tr>\n",
              "      <th>max</th>\n",
              "      <td>928 days 23:00:00</td>\n",
              "    </tr>\n",
              "  </tbody>\n",
              "</table>\n",
              "</div><br><label><b>dtype:</b> object</label>"
            ]
          },
          "metadata": {},
          "execution_count": 95
        }
      ]
    },
    {
      "cell_type": "markdown",
      "source": [
        "## Question 4"
      ],
      "metadata": {
        "id": "zKW7RCzh1rHd"
      }
    },
    {
      "cell_type": "code",
      "source": [
        "aws_earnings = pd.read_csv(r'https://raw.githubusercontent.com/DataTalksClub/stock-markets-analytics-zoomcamp/refs/heads/main/cohorts/2025/ha1_Amazon.csv', delimiter=\";\", na_values=\"-\")"
      ],
      "metadata": {
        "id": "gMy4eISq3NDZ"
      },
      "execution_count": 100,
      "outputs": []
    },
    {
      "cell_type": "code",
      "source": [
        "aws_ticker_obj = yf.Ticker(ticker=\"AMZN\")\n",
        "\n",
        "aws_price_history = aws_ticker_obj.history(start=\"1997-05-15\").reset_index()"
      ],
      "metadata": {
        "id": "fhHhFsV43UJO"
      },
      "execution_count": 135,
      "outputs": []
    },
    {
      "cell_type": "code",
      "source": [
        "aws_price_history['Close_2_day_lag'] = aws_price_history['Close'].shift(2)"
      ],
      "metadata": {
        "id": "8qhJZj283ZN-"
      },
      "execution_count": 136,
      "outputs": []
    },
    {
      "cell_type": "code",
      "source": [
        "aws_price_history['2_day_price_pct'] = aws_price_history['Close'] / aws_price_history['Close_2_day_lag'] - 1"
      ],
      "metadata": {
        "id": "ZEWRKge34KK0"
      },
      "execution_count": 137,
      "outputs": []
    },
    {
      "cell_type": "code",
      "source": [
        "aws_price_history['Date'] = pd.to_datetime(aws_price_history['Date']).dt.date"
      ],
      "metadata": {
        "id": "3wBrzu624PFH"
      },
      "execution_count": 138,
      "outputs": []
    },
    {
      "cell_type": "code",
      "source": [
        "aws_positve_earnings_news = aws_earnings.query('`Surprise (%)` > 0').copy()"
      ],
      "metadata": {
        "id": "CtB9ROUB4ZaG"
      },
      "execution_count": 139,
      "outputs": []
    },
    {
      "cell_type": "code",
      "source": [
        "aws_positve_earnings_news['Earnings Date'] = pd.to_datetime(aws_positve_earnings_news['Earnings Date']).dt.date"
      ],
      "metadata": {
        "colab": {
          "base_uri": "https://localhost:8080/"
        },
        "id": "ui8J3kxG4jfo",
        "outputId": "d4521f97-7d9e-4129-e1ab-6b0748920233"
      },
      "execution_count": 140,
      "outputs": [
        {
          "output_type": "stream",
          "name": "stderr",
          "text": [
            "<ipython-input-140-1ac5d7321231>:1: FutureWarning: Parsed string \"May 1, 2025 at 4 PM EDT\" included an un-recognized timezone \"EDT\". Dropping unrecognized timezones is deprecated; in a future version this will raise. Instead pass the string without the timezone, then use .tz_localize to convert to a recognized timezone.\n",
            "  aws_positve_earnings_news['Earnings Date'] = pd.to_datetime(aws_positve_earnings_news['Earnings Date']).dt.date\n",
            "<ipython-input-140-1ac5d7321231>:1: UserWarning: Could not infer format, so each element will be parsed individually, falling back to `dateutil`. To ensure parsing is consistent and as-expected, please specify a format.\n",
            "  aws_positve_earnings_news['Earnings Date'] = pd.to_datetime(aws_positve_earnings_news['Earnings Date']).dt.date\n",
            "<ipython-input-140-1ac5d7321231>:1: FutureWarning: Parsed string \"February 6, 2025 at 4 PM EST\" included an un-recognized timezone \"EST\". Dropping unrecognized timezones is deprecated; in a future version this will raise. Instead pass the string without the timezone, then use .tz_localize to convert to a recognized timezone.\n",
            "  aws_positve_earnings_news['Earnings Date'] = pd.to_datetime(aws_positve_earnings_news['Earnings Date']).dt.date\n",
            "<ipython-input-140-1ac5d7321231>:1: FutureWarning: Parsed string \"October 31, 2024 at 4 PM EDT\" included an un-recognized timezone \"EDT\". Dropping unrecognized timezones is deprecated; in a future version this will raise. Instead pass the string without the timezone, then use .tz_localize to convert to a recognized timezone.\n",
            "  aws_positve_earnings_news['Earnings Date'] = pd.to_datetime(aws_positve_earnings_news['Earnings Date']).dt.date\n",
            "<ipython-input-140-1ac5d7321231>:1: FutureWarning: Parsed string \"August 1, 2024 at 4 PM EDT\" included an un-recognized timezone \"EDT\". Dropping unrecognized timezones is deprecated; in a future version this will raise. Instead pass the string without the timezone, then use .tz_localize to convert to a recognized timezone.\n",
            "  aws_positve_earnings_news['Earnings Date'] = pd.to_datetime(aws_positve_earnings_news['Earnings Date']).dt.date\n",
            "<ipython-input-140-1ac5d7321231>:1: FutureWarning: Parsed string \"April 30, 2024 at 4 PM EDT\" included an un-recognized timezone \"EDT\". Dropping unrecognized timezones is deprecated; in a future version this will raise. Instead pass the string without the timezone, then use .tz_localize to convert to a recognized timezone.\n",
            "  aws_positve_earnings_news['Earnings Date'] = pd.to_datetime(aws_positve_earnings_news['Earnings Date']).dt.date\n",
            "<ipython-input-140-1ac5d7321231>:1: FutureWarning: Parsed string \"February 1, 2024 at 4 PM EST\" included an un-recognized timezone \"EST\". Dropping unrecognized timezones is deprecated; in a future version this will raise. Instead pass the string without the timezone, then use .tz_localize to convert to a recognized timezone.\n",
            "  aws_positve_earnings_news['Earnings Date'] = pd.to_datetime(aws_positve_earnings_news['Earnings Date']).dt.date\n",
            "<ipython-input-140-1ac5d7321231>:1: FutureWarning: Parsed string \"October 26, 2023 at 4 PM EDT\" included an un-recognized timezone \"EDT\". Dropping unrecognized timezones is deprecated; in a future version this will raise. Instead pass the string without the timezone, then use .tz_localize to convert to a recognized timezone.\n",
            "  aws_positve_earnings_news['Earnings Date'] = pd.to_datetime(aws_positve_earnings_news['Earnings Date']).dt.date\n",
            "<ipython-input-140-1ac5d7321231>:1: FutureWarning: Parsed string \"August 3, 2023 at 4 PM EDT\" included an un-recognized timezone \"EDT\". Dropping unrecognized timezones is deprecated; in a future version this will raise. Instead pass the string without the timezone, then use .tz_localize to convert to a recognized timezone.\n",
            "  aws_positve_earnings_news['Earnings Date'] = pd.to_datetime(aws_positve_earnings_news['Earnings Date']).dt.date\n",
            "<ipython-input-140-1ac5d7321231>:1: FutureWarning: Parsed string \"April 27, 2023 at 4 PM EDT\" included an un-recognized timezone \"EDT\". Dropping unrecognized timezones is deprecated; in a future version this will raise. Instead pass the string without the timezone, then use .tz_localize to convert to a recognized timezone.\n",
            "  aws_positve_earnings_news['Earnings Date'] = pd.to_datetime(aws_positve_earnings_news['Earnings Date']).dt.date\n",
            "<ipython-input-140-1ac5d7321231>:1: FutureWarning: Parsed string \"February 2, 2023 at 4 PM EST\" included an un-recognized timezone \"EST\". Dropping unrecognized timezones is deprecated; in a future version this will raise. Instead pass the string without the timezone, then use .tz_localize to convert to a recognized timezone.\n",
            "  aws_positve_earnings_news['Earnings Date'] = pd.to_datetime(aws_positve_earnings_news['Earnings Date']).dt.date\n",
            "<ipython-input-140-1ac5d7321231>:1: FutureWarning: Parsed string \"July 28, 2022 at 4 PM EDT\" included an un-recognized timezone \"EDT\". Dropping unrecognized timezones is deprecated; in a future version this will raise. Instead pass the string without the timezone, then use .tz_localize to convert to a recognized timezone.\n",
            "  aws_positve_earnings_news['Earnings Date'] = pd.to_datetime(aws_positve_earnings_news['Earnings Date']).dt.date\n",
            "<ipython-input-140-1ac5d7321231>:1: FutureWarning: Parsed string \"February 3, 2022 at 4 PM EST\" included an un-recognized timezone \"EST\". Dropping unrecognized timezones is deprecated; in a future version this will raise. Instead pass the string without the timezone, then use .tz_localize to convert to a recognized timezone.\n",
            "  aws_positve_earnings_news['Earnings Date'] = pd.to_datetime(aws_positve_earnings_news['Earnings Date']).dt.date\n",
            "<ipython-input-140-1ac5d7321231>:1: FutureWarning: Parsed string \"July 29, 2021 at 4 PM EDT\" included an un-recognized timezone \"EDT\". Dropping unrecognized timezones is deprecated; in a future version this will raise. Instead pass the string without the timezone, then use .tz_localize to convert to a recognized timezone.\n",
            "  aws_positve_earnings_news['Earnings Date'] = pd.to_datetime(aws_positve_earnings_news['Earnings Date']).dt.date\n",
            "<ipython-input-140-1ac5d7321231>:1: FutureWarning: Parsed string \"April 29, 2021 at 4 PM EDT\" included an un-recognized timezone \"EDT\". Dropping unrecognized timezones is deprecated; in a future version this will raise. Instead pass the string without the timezone, then use .tz_localize to convert to a recognized timezone.\n",
            "  aws_positve_earnings_news['Earnings Date'] = pd.to_datetime(aws_positve_earnings_news['Earnings Date']).dt.date\n",
            "<ipython-input-140-1ac5d7321231>:1: FutureWarning: Parsed string \"February 2, 2021 at 4 PM EST\" included an un-recognized timezone \"EST\". Dropping unrecognized timezones is deprecated; in a future version this will raise. Instead pass the string without the timezone, then use .tz_localize to convert to a recognized timezone.\n",
            "  aws_positve_earnings_news['Earnings Date'] = pd.to_datetime(aws_positve_earnings_news['Earnings Date']).dt.date\n",
            "<ipython-input-140-1ac5d7321231>:1: FutureWarning: Parsed string \"October 29, 2020 at 4 PM EDT\" included an un-recognized timezone \"EDT\". Dropping unrecognized timezones is deprecated; in a future version this will raise. Instead pass the string without the timezone, then use .tz_localize to convert to a recognized timezone.\n",
            "  aws_positve_earnings_news['Earnings Date'] = pd.to_datetime(aws_positve_earnings_news['Earnings Date']).dt.date\n",
            "<ipython-input-140-1ac5d7321231>:1: FutureWarning: Parsed string \"July 30, 2020 at 4 PM EDT\" included an un-recognized timezone \"EDT\". Dropping unrecognized timezones is deprecated; in a future version this will raise. Instead pass the string without the timezone, then use .tz_localize to convert to a recognized timezone.\n",
            "  aws_positve_earnings_news['Earnings Date'] = pd.to_datetime(aws_positve_earnings_news['Earnings Date']).dt.date\n",
            "<ipython-input-140-1ac5d7321231>:1: FutureWarning: Parsed string \"January 30, 2020 at 4 PM EST\" included an un-recognized timezone \"EST\". Dropping unrecognized timezones is deprecated; in a future version this will raise. Instead pass the string without the timezone, then use .tz_localize to convert to a recognized timezone.\n",
            "  aws_positve_earnings_news['Earnings Date'] = pd.to_datetime(aws_positve_earnings_news['Earnings Date']).dt.date\n",
            "<ipython-input-140-1ac5d7321231>:1: FutureWarning: Parsed string \"April 25, 2019 at 4 PM EDT\" included an un-recognized timezone \"EDT\". Dropping unrecognized timezones is deprecated; in a future version this will raise. Instead pass the string without the timezone, then use .tz_localize to convert to a recognized timezone.\n",
            "  aws_positve_earnings_news['Earnings Date'] = pd.to_datetime(aws_positve_earnings_news['Earnings Date']).dt.date\n",
            "<ipython-input-140-1ac5d7321231>:1: FutureWarning: Parsed string \"January 31, 2019 at 4 PM EST\" included an un-recognized timezone \"EST\". Dropping unrecognized timezones is deprecated; in a future version this will raise. Instead pass the string without the timezone, then use .tz_localize to convert to a recognized timezone.\n",
            "  aws_positve_earnings_news['Earnings Date'] = pd.to_datetime(aws_positve_earnings_news['Earnings Date']).dt.date\n",
            "<ipython-input-140-1ac5d7321231>:1: FutureWarning: Parsed string \"October 25, 2018 at 4 PM EDT\" included an un-recognized timezone \"EDT\". Dropping unrecognized timezones is deprecated; in a future version this will raise. Instead pass the string without the timezone, then use .tz_localize to convert to a recognized timezone.\n",
            "  aws_positve_earnings_news['Earnings Date'] = pd.to_datetime(aws_positve_earnings_news['Earnings Date']).dt.date\n",
            "<ipython-input-140-1ac5d7321231>:1: FutureWarning: Parsed string \"July 26, 2018 at 4 PM EDT\" included an un-recognized timezone \"EDT\". Dropping unrecognized timezones is deprecated; in a future version this will raise. Instead pass the string without the timezone, then use .tz_localize to convert to a recognized timezone.\n",
            "  aws_positve_earnings_news['Earnings Date'] = pd.to_datetime(aws_positve_earnings_news['Earnings Date']).dt.date\n",
            "<ipython-input-140-1ac5d7321231>:1: FutureWarning: Parsed string \"April 26, 2018 at 4 PM EDT\" included an un-recognized timezone \"EDT\". Dropping unrecognized timezones is deprecated; in a future version this will raise. Instead pass the string without the timezone, then use .tz_localize to convert to a recognized timezone.\n",
            "  aws_positve_earnings_news['Earnings Date'] = pd.to_datetime(aws_positve_earnings_news['Earnings Date']).dt.date\n",
            "<ipython-input-140-1ac5d7321231>:1: FutureWarning: Parsed string \"February 1, 2018 at 4 PM EST\" included an un-recognized timezone \"EST\". Dropping unrecognized timezones is deprecated; in a future version this will raise. Instead pass the string without the timezone, then use .tz_localize to convert to a recognized timezone.\n",
            "  aws_positve_earnings_news['Earnings Date'] = pd.to_datetime(aws_positve_earnings_news['Earnings Date']).dt.date\n",
            "<ipython-input-140-1ac5d7321231>:1: FutureWarning: Parsed string \"October 26, 2017 at 4 PM EDT\" included an un-recognized timezone \"EDT\". Dropping unrecognized timezones is deprecated; in a future version this will raise. Instead pass the string without the timezone, then use .tz_localize to convert to a recognized timezone.\n",
            "  aws_positve_earnings_news['Earnings Date'] = pd.to_datetime(aws_positve_earnings_news['Earnings Date']).dt.date\n",
            "<ipython-input-140-1ac5d7321231>:1: FutureWarning: Parsed string \"April 27, 2017 at 4 PM EDT\" included an un-recognized timezone \"EDT\". Dropping unrecognized timezones is deprecated; in a future version this will raise. Instead pass the string without the timezone, then use .tz_localize to convert to a recognized timezone.\n",
            "  aws_positve_earnings_news['Earnings Date'] = pd.to_datetime(aws_positve_earnings_news['Earnings Date']).dt.date\n",
            "<ipython-input-140-1ac5d7321231>:1: FutureWarning: Parsed string \"February 2, 2017 at 4 PM EST\" included an un-recognized timezone \"EST\". Dropping unrecognized timezones is deprecated; in a future version this will raise. Instead pass the string without the timezone, then use .tz_localize to convert to a recognized timezone.\n",
            "  aws_positve_earnings_news['Earnings Date'] = pd.to_datetime(aws_positve_earnings_news['Earnings Date']).dt.date\n",
            "<ipython-input-140-1ac5d7321231>:1: FutureWarning: Parsed string \"July 28, 2016 at 4 PM EDT\" included an un-recognized timezone \"EDT\". Dropping unrecognized timezones is deprecated; in a future version this will raise. Instead pass the string without the timezone, then use .tz_localize to convert to a recognized timezone.\n",
            "  aws_positve_earnings_news['Earnings Date'] = pd.to_datetime(aws_positve_earnings_news['Earnings Date']).dt.date\n",
            "<ipython-input-140-1ac5d7321231>:1: FutureWarning: Parsed string \"April 28, 2016 at 4 PM EDT\" included an un-recognized timezone \"EDT\". Dropping unrecognized timezones is deprecated; in a future version this will raise. Instead pass the string without the timezone, then use .tz_localize to convert to a recognized timezone.\n",
            "  aws_positve_earnings_news['Earnings Date'] = pd.to_datetime(aws_positve_earnings_news['Earnings Date']).dt.date\n",
            "<ipython-input-140-1ac5d7321231>:1: FutureWarning: Parsed string \"October 22, 2015 at 4 PM EDT\" included an un-recognized timezone \"EDT\". Dropping unrecognized timezones is deprecated; in a future version this will raise. Instead pass the string without the timezone, then use .tz_localize to convert to a recognized timezone.\n",
            "  aws_positve_earnings_news['Earnings Date'] = pd.to_datetime(aws_positve_earnings_news['Earnings Date']).dt.date\n",
            "<ipython-input-140-1ac5d7321231>:1: FutureWarning: Parsed string \"July 23, 2015 at 4 PM EDT\" included an un-recognized timezone \"EDT\". Dropping unrecognized timezones is deprecated; in a future version this will raise. Instead pass the string without the timezone, then use .tz_localize to convert to a recognized timezone.\n",
            "  aws_positve_earnings_news['Earnings Date'] = pd.to_datetime(aws_positve_earnings_news['Earnings Date']).dt.date\n",
            "<ipython-input-140-1ac5d7321231>:1: FutureWarning: Parsed string \"April 23, 2015 at 4 PM EDT\" included an un-recognized timezone \"EDT\". Dropping unrecognized timezones is deprecated; in a future version this will raise. Instead pass the string without the timezone, then use .tz_localize to convert to a recognized timezone.\n",
            "  aws_positve_earnings_news['Earnings Date'] = pd.to_datetime(aws_positve_earnings_news['Earnings Date']).dt.date\n",
            "<ipython-input-140-1ac5d7321231>:1: FutureWarning: Parsed string \"January 29, 2015 at 4 PM EST\" included an un-recognized timezone \"EST\". Dropping unrecognized timezones is deprecated; in a future version this will raise. Instead pass the string without the timezone, then use .tz_localize to convert to a recognized timezone.\n",
            "  aws_positve_earnings_news['Earnings Date'] = pd.to_datetime(aws_positve_earnings_news['Earnings Date']).dt.date\n",
            "<ipython-input-140-1ac5d7321231>:1: FutureWarning: Parsed string \"April 24, 2014 at 12 AM EDT\" included an un-recognized timezone \"EDT\". Dropping unrecognized timezones is deprecated; in a future version this will raise. Instead pass the string without the timezone, then use .tz_localize to convert to a recognized timezone.\n",
            "  aws_positve_earnings_news['Earnings Date'] = pd.to_datetime(aws_positve_earnings_news['Earnings Date']).dt.date\n",
            "<ipython-input-140-1ac5d7321231>:1: FutureWarning: Parsed string \"April 25, 2013 at 12 AM EDT\" included an un-recognized timezone \"EDT\". Dropping unrecognized timezones is deprecated; in a future version this will raise. Instead pass the string without the timezone, then use .tz_localize to convert to a recognized timezone.\n",
            "  aws_positve_earnings_news['Earnings Date'] = pd.to_datetime(aws_positve_earnings_news['Earnings Date']).dt.date\n",
            "<ipython-input-140-1ac5d7321231>:1: FutureWarning: Parsed string \"July 26, 2012 at 12 AM EDT\" included an un-recognized timezone \"EDT\". Dropping unrecognized timezones is deprecated; in a future version this will raise. Instead pass the string without the timezone, then use .tz_localize to convert to a recognized timezone.\n",
            "  aws_positve_earnings_news['Earnings Date'] = pd.to_datetime(aws_positve_earnings_news['Earnings Date']).dt.date\n",
            "<ipython-input-140-1ac5d7321231>:1: FutureWarning: Parsed string \"April 26, 2012 at 12 AM EDT\" included an un-recognized timezone \"EDT\". Dropping unrecognized timezones is deprecated; in a future version this will raise. Instead pass the string without the timezone, then use .tz_localize to convert to a recognized timezone.\n",
            "  aws_positve_earnings_news['Earnings Date'] = pd.to_datetime(aws_positve_earnings_news['Earnings Date']).dt.date\n",
            "<ipython-input-140-1ac5d7321231>:1: FutureWarning: Parsed string \"January 31, 2012 at 12 AM EST\" included an un-recognized timezone \"EST\". Dropping unrecognized timezones is deprecated; in a future version this will raise. Instead pass the string without the timezone, then use .tz_localize to convert to a recognized timezone.\n",
            "  aws_positve_earnings_news['Earnings Date'] = pd.to_datetime(aws_positve_earnings_news['Earnings Date']).dt.date\n",
            "<ipython-input-140-1ac5d7321231>:1: FutureWarning: Parsed string \"July 26, 2011 at 12 AM EDT\" included an un-recognized timezone \"EDT\". Dropping unrecognized timezones is deprecated; in a future version this will raise. Instead pass the string without the timezone, then use .tz_localize to convert to a recognized timezone.\n",
            "  aws_positve_earnings_news['Earnings Date'] = pd.to_datetime(aws_positve_earnings_news['Earnings Date']).dt.date\n",
            "<ipython-input-140-1ac5d7321231>:1: FutureWarning: Parsed string \"January 27, 2011 at 12 AM EST\" included an un-recognized timezone \"EST\". Dropping unrecognized timezones is deprecated; in a future version this will raise. Instead pass the string without the timezone, then use .tz_localize to convert to a recognized timezone.\n",
            "  aws_positve_earnings_news['Earnings Date'] = pd.to_datetime(aws_positve_earnings_news['Earnings Date']).dt.date\n",
            "<ipython-input-140-1ac5d7321231>:1: FutureWarning: Parsed string \"October 21, 2010 at 12 AM EDT\" included an un-recognized timezone \"EDT\". Dropping unrecognized timezones is deprecated; in a future version this will raise. Instead pass the string without the timezone, then use .tz_localize to convert to a recognized timezone.\n",
            "  aws_positve_earnings_news['Earnings Date'] = pd.to_datetime(aws_positve_earnings_news['Earnings Date']).dt.date\n",
            "<ipython-input-140-1ac5d7321231>:1: FutureWarning: Parsed string \"April 22, 2010 at 12 AM EDT\" included an un-recognized timezone \"EDT\". Dropping unrecognized timezones is deprecated; in a future version this will raise. Instead pass the string without the timezone, then use .tz_localize to convert to a recognized timezone.\n",
            "  aws_positve_earnings_news['Earnings Date'] = pd.to_datetime(aws_positve_earnings_news['Earnings Date']).dt.date\n",
            "<ipython-input-140-1ac5d7321231>:1: FutureWarning: Parsed string \"January 28, 2010 at 12 AM EST\" included an un-recognized timezone \"EST\". Dropping unrecognized timezones is deprecated; in a future version this will raise. Instead pass the string without the timezone, then use .tz_localize to convert to a recognized timezone.\n",
            "  aws_positve_earnings_news['Earnings Date'] = pd.to_datetime(aws_positve_earnings_news['Earnings Date']).dt.date\n",
            "<ipython-input-140-1ac5d7321231>:1: FutureWarning: Parsed string \"October 22, 2009 at 12 AM EDT\" included an un-recognized timezone \"EDT\". Dropping unrecognized timezones is deprecated; in a future version this will raise. Instead pass the string without the timezone, then use .tz_localize to convert to a recognized timezone.\n",
            "  aws_positve_earnings_news['Earnings Date'] = pd.to_datetime(aws_positve_earnings_news['Earnings Date']).dt.date\n",
            "<ipython-input-140-1ac5d7321231>:1: FutureWarning: Parsed string \"July 23, 2009 at 12 AM EDT\" included an un-recognized timezone \"EDT\". Dropping unrecognized timezones is deprecated; in a future version this will raise. Instead pass the string without the timezone, then use .tz_localize to convert to a recognized timezone.\n",
            "  aws_positve_earnings_news['Earnings Date'] = pd.to_datetime(aws_positve_earnings_news['Earnings Date']).dt.date\n",
            "<ipython-input-140-1ac5d7321231>:1: FutureWarning: Parsed string \"April 23, 2009 at 12 AM EDT\" included an un-recognized timezone \"EDT\". Dropping unrecognized timezones is deprecated; in a future version this will raise. Instead pass the string without the timezone, then use .tz_localize to convert to a recognized timezone.\n",
            "  aws_positve_earnings_news['Earnings Date'] = pd.to_datetime(aws_positve_earnings_news['Earnings Date']).dt.date\n",
            "<ipython-input-140-1ac5d7321231>:1: FutureWarning: Parsed string \"January 29, 2009 at 12 AM EST\" included an un-recognized timezone \"EST\". Dropping unrecognized timezones is deprecated; in a future version this will raise. Instead pass the string without the timezone, then use .tz_localize to convert to a recognized timezone.\n",
            "  aws_positve_earnings_news['Earnings Date'] = pd.to_datetime(aws_positve_earnings_news['Earnings Date']).dt.date\n",
            "<ipython-input-140-1ac5d7321231>:1: FutureWarning: Parsed string \"October 22, 2008 at 12 AM EDT\" included an un-recognized timezone \"EDT\". Dropping unrecognized timezones is deprecated; in a future version this will raise. Instead pass the string without the timezone, then use .tz_localize to convert to a recognized timezone.\n",
            "  aws_positve_earnings_news['Earnings Date'] = pd.to_datetime(aws_positve_earnings_news['Earnings Date']).dt.date\n",
            "<ipython-input-140-1ac5d7321231>:1: FutureWarning: Parsed string \"July 23, 2008 at 12 AM EDT\" included an un-recognized timezone \"EDT\". Dropping unrecognized timezones is deprecated; in a future version this will raise. Instead pass the string without the timezone, then use .tz_localize to convert to a recognized timezone.\n",
            "  aws_positve_earnings_news['Earnings Date'] = pd.to_datetime(aws_positve_earnings_news['Earnings Date']).dt.date\n",
            "<ipython-input-140-1ac5d7321231>:1: FutureWarning: Parsed string \"April 23, 2008 at 12 AM EDT\" included an un-recognized timezone \"EDT\". Dropping unrecognized timezones is deprecated; in a future version this will raise. Instead pass the string without the timezone, then use .tz_localize to convert to a recognized timezone.\n",
            "  aws_positve_earnings_news['Earnings Date'] = pd.to_datetime(aws_positve_earnings_news['Earnings Date']).dt.date\n",
            "<ipython-input-140-1ac5d7321231>:1: FutureWarning: Parsed string \"January 30, 2008 at 12 AM EST\" included an un-recognized timezone \"EST\". Dropping unrecognized timezones is deprecated; in a future version this will raise. Instead pass the string without the timezone, then use .tz_localize to convert to a recognized timezone.\n",
            "  aws_positve_earnings_news['Earnings Date'] = pd.to_datetime(aws_positve_earnings_news['Earnings Date']).dt.date\n",
            "<ipython-input-140-1ac5d7321231>:1: FutureWarning: Parsed string \"October 23, 2007 at 12 AM EDT\" included an un-recognized timezone \"EDT\". Dropping unrecognized timezones is deprecated; in a future version this will raise. Instead pass the string without the timezone, then use .tz_localize to convert to a recognized timezone.\n",
            "  aws_positve_earnings_news['Earnings Date'] = pd.to_datetime(aws_positve_earnings_news['Earnings Date']).dt.date\n",
            "<ipython-input-140-1ac5d7321231>:1: FutureWarning: Parsed string \"July 24, 2007 at 12 AM EDT\" included an un-recognized timezone \"EDT\". Dropping unrecognized timezones is deprecated; in a future version this will raise. Instead pass the string without the timezone, then use .tz_localize to convert to a recognized timezone.\n",
            "  aws_positve_earnings_news['Earnings Date'] = pd.to_datetime(aws_positve_earnings_news['Earnings Date']).dt.date\n",
            "<ipython-input-140-1ac5d7321231>:1: FutureWarning: Parsed string \"April 24, 2007 at 12 AM EDT\" included an un-recognized timezone \"EDT\". Dropping unrecognized timezones is deprecated; in a future version this will raise. Instead pass the string without the timezone, then use .tz_localize to convert to a recognized timezone.\n",
            "  aws_positve_earnings_news['Earnings Date'] = pd.to_datetime(aws_positve_earnings_news['Earnings Date']).dt.date\n",
            "<ipython-input-140-1ac5d7321231>:1: FutureWarning: Parsed string \"February 1, 2007 at 12 AM EST\" included an un-recognized timezone \"EST\". Dropping unrecognized timezones is deprecated; in a future version this will raise. Instead pass the string without the timezone, then use .tz_localize to convert to a recognized timezone.\n",
            "  aws_positve_earnings_news['Earnings Date'] = pd.to_datetime(aws_positve_earnings_news['Earnings Date']).dt.date\n",
            "<ipython-input-140-1ac5d7321231>:1: FutureWarning: Parsed string \"October 24, 2006 at 12 AM EDT\" included an un-recognized timezone \"EDT\". Dropping unrecognized timezones is deprecated; in a future version this will raise. Instead pass the string without the timezone, then use .tz_localize to convert to a recognized timezone.\n",
            "  aws_positve_earnings_news['Earnings Date'] = pd.to_datetime(aws_positve_earnings_news['Earnings Date']).dt.date\n",
            "<ipython-input-140-1ac5d7321231>:1: FutureWarning: Parsed string \"April 25, 2006 at 12 AM EDT\" included an un-recognized timezone \"EDT\". Dropping unrecognized timezones is deprecated; in a future version this will raise. Instead pass the string without the timezone, then use .tz_localize to convert to a recognized timezone.\n",
            "  aws_positve_earnings_news['Earnings Date'] = pd.to_datetime(aws_positve_earnings_news['Earnings Date']).dt.date\n",
            "<ipython-input-140-1ac5d7321231>:1: FutureWarning: Parsed string \"February 2, 2006 at 12 AM EST\" included an un-recognized timezone \"EST\". Dropping unrecognized timezones is deprecated; in a future version this will raise. Instead pass the string without the timezone, then use .tz_localize to convert to a recognized timezone.\n",
            "  aws_positve_earnings_news['Earnings Date'] = pd.to_datetime(aws_positve_earnings_news['Earnings Date']).dt.date\n",
            "<ipython-input-140-1ac5d7321231>:1: FutureWarning: Parsed string \"July 26, 2005 at 12 AM EDT\" included an un-recognized timezone \"EDT\". Dropping unrecognized timezones is deprecated; in a future version this will raise. Instead pass the string without the timezone, then use .tz_localize to convert to a recognized timezone.\n",
            "  aws_positve_earnings_news['Earnings Date'] = pd.to_datetime(aws_positve_earnings_news['Earnings Date']).dt.date\n",
            "<ipython-input-140-1ac5d7321231>:1: FutureWarning: Parsed string \"April 22, 2004 at 12 AM EDT\" included an un-recognized timezone \"EDT\". Dropping unrecognized timezones is deprecated; in a future version this will raise. Instead pass the string without the timezone, then use .tz_localize to convert to a recognized timezone.\n",
            "  aws_positve_earnings_news['Earnings Date'] = pd.to_datetime(aws_positve_earnings_news['Earnings Date']).dt.date\n",
            "<ipython-input-140-1ac5d7321231>:1: FutureWarning: Parsed string \"January 27, 2004 at 12 AM EST\" included an un-recognized timezone \"EST\". Dropping unrecognized timezones is deprecated; in a future version this will raise. Instead pass the string without the timezone, then use .tz_localize to convert to a recognized timezone.\n",
            "  aws_positve_earnings_news['Earnings Date'] = pd.to_datetime(aws_positve_earnings_news['Earnings Date']).dt.date\n",
            "<ipython-input-140-1ac5d7321231>:1: FutureWarning: Parsed string \"October 21, 2003 at 12 AM EDT\" included an un-recognized timezone \"EDT\". Dropping unrecognized timezones is deprecated; in a future version this will raise. Instead pass the string without the timezone, then use .tz_localize to convert to a recognized timezone.\n",
            "  aws_positve_earnings_news['Earnings Date'] = pd.to_datetime(aws_positve_earnings_news['Earnings Date']).dt.date\n",
            "<ipython-input-140-1ac5d7321231>:1: FutureWarning: Parsed string \"July 22, 2003 at 12 AM EDT\" included an un-recognized timezone \"EDT\". Dropping unrecognized timezones is deprecated; in a future version this will raise. Instead pass the string without the timezone, then use .tz_localize to convert to a recognized timezone.\n",
            "  aws_positve_earnings_news['Earnings Date'] = pd.to_datetime(aws_positve_earnings_news['Earnings Date']).dt.date\n",
            "<ipython-input-140-1ac5d7321231>:1: FutureWarning: Parsed string \"April 24, 2003 at 12 AM EDT\" included an un-recognized timezone \"EDT\". Dropping unrecognized timezones is deprecated; in a future version this will raise. Instead pass the string without the timezone, then use .tz_localize to convert to a recognized timezone.\n",
            "  aws_positve_earnings_news['Earnings Date'] = pd.to_datetime(aws_positve_earnings_news['Earnings Date']).dt.date\n",
            "<ipython-input-140-1ac5d7321231>:1: FutureWarning: Parsed string \"January 23, 2003 at 12 AM EST\" included an un-recognized timezone \"EST\". Dropping unrecognized timezones is deprecated; in a future version this will raise. Instead pass the string without the timezone, then use .tz_localize to convert to a recognized timezone.\n",
            "  aws_positve_earnings_news['Earnings Date'] = pd.to_datetime(aws_positve_earnings_news['Earnings Date']).dt.date\n",
            "<ipython-input-140-1ac5d7321231>:1: FutureWarning: Parsed string \"October 24, 2002 at 12 AM EDT\" included an un-recognized timezone \"EDT\". Dropping unrecognized timezones is deprecated; in a future version this will raise. Instead pass the string without the timezone, then use .tz_localize to convert to a recognized timezone.\n",
            "  aws_positve_earnings_news['Earnings Date'] = pd.to_datetime(aws_positve_earnings_news['Earnings Date']).dt.date\n",
            "<ipython-input-140-1ac5d7321231>:1: FutureWarning: Parsed string \"July 23, 2002 at 12 AM EDT\" included an un-recognized timezone \"EDT\". Dropping unrecognized timezones is deprecated; in a future version this will raise. Instead pass the string without the timezone, then use .tz_localize to convert to a recognized timezone.\n",
            "  aws_positve_earnings_news['Earnings Date'] = pd.to_datetime(aws_positve_earnings_news['Earnings Date']).dt.date\n",
            "<ipython-input-140-1ac5d7321231>:1: FutureWarning: Parsed string \"April 23, 2002 at 12 AM EDT\" included an un-recognized timezone \"EDT\". Dropping unrecognized timezones is deprecated; in a future version this will raise. Instead pass the string without the timezone, then use .tz_localize to convert to a recognized timezone.\n",
            "  aws_positve_earnings_news['Earnings Date'] = pd.to_datetime(aws_positve_earnings_news['Earnings Date']).dt.date\n",
            "<ipython-input-140-1ac5d7321231>:1: FutureWarning: Parsed string \"January 22, 2002 at 12 AM EST\" included an un-recognized timezone \"EST\". Dropping unrecognized timezones is deprecated; in a future version this will raise. Instead pass the string without the timezone, then use .tz_localize to convert to a recognized timezone.\n",
            "  aws_positve_earnings_news['Earnings Date'] = pd.to_datetime(aws_positve_earnings_news['Earnings Date']).dt.date\n",
            "<ipython-input-140-1ac5d7321231>:1: FutureWarning: Parsed string \"October 23, 2001 at 12 AM EDT\" included an un-recognized timezone \"EDT\". Dropping unrecognized timezones is deprecated; in a future version this will raise. Instead pass the string without the timezone, then use .tz_localize to convert to a recognized timezone.\n",
            "  aws_positve_earnings_news['Earnings Date'] = pd.to_datetime(aws_positve_earnings_news['Earnings Date']).dt.date\n",
            "<ipython-input-140-1ac5d7321231>:1: FutureWarning: Parsed string \"July 23, 2001 at 12 AM EDT\" included an un-recognized timezone \"EDT\". Dropping unrecognized timezones is deprecated; in a future version this will raise. Instead pass the string without the timezone, then use .tz_localize to convert to a recognized timezone.\n",
            "  aws_positve_earnings_news['Earnings Date'] = pd.to_datetime(aws_positve_earnings_news['Earnings Date']).dt.date\n",
            "<ipython-input-140-1ac5d7321231>:1: FutureWarning: Parsed string \"April 24, 2001 at 12 AM EDT\" included an un-recognized timezone \"EDT\". Dropping unrecognized timezones is deprecated; in a future version this will raise. Instead pass the string without the timezone, then use .tz_localize to convert to a recognized timezone.\n",
            "  aws_positve_earnings_news['Earnings Date'] = pd.to_datetime(aws_positve_earnings_news['Earnings Date']).dt.date\n",
            "<ipython-input-140-1ac5d7321231>:1: FutureWarning: Parsed string \"January 30, 2001 at 12 AM EST\" included an un-recognized timezone \"EST\". Dropping unrecognized timezones is deprecated; in a future version this will raise. Instead pass the string without the timezone, then use .tz_localize to convert to a recognized timezone.\n",
            "  aws_positve_earnings_news['Earnings Date'] = pd.to_datetime(aws_positve_earnings_news['Earnings Date']).dt.date\n",
            "<ipython-input-140-1ac5d7321231>:1: FutureWarning: Parsed string \"October 24, 2000 at 12 AM EDT\" included an un-recognized timezone \"EDT\". Dropping unrecognized timezones is deprecated; in a future version this will raise. Instead pass the string without the timezone, then use .tz_localize to convert to a recognized timezone.\n",
            "  aws_positve_earnings_news['Earnings Date'] = pd.to_datetime(aws_positve_earnings_news['Earnings Date']).dt.date\n",
            "<ipython-input-140-1ac5d7321231>:1: FutureWarning: Parsed string \"July 26, 2000 at 12 AM EDT\" included an un-recognized timezone \"EDT\". Dropping unrecognized timezones is deprecated; in a future version this will raise. Instead pass the string without the timezone, then use .tz_localize to convert to a recognized timezone.\n",
            "  aws_positve_earnings_news['Earnings Date'] = pd.to_datetime(aws_positve_earnings_news['Earnings Date']).dt.date\n",
            "<ipython-input-140-1ac5d7321231>:1: FutureWarning: Parsed string \"April 26, 2000 at 12 AM EDT\" included an un-recognized timezone \"EDT\". Dropping unrecognized timezones is deprecated; in a future version this will raise. Instead pass the string without the timezone, then use .tz_localize to convert to a recognized timezone.\n",
            "  aws_positve_earnings_news['Earnings Date'] = pd.to_datetime(aws_positve_earnings_news['Earnings Date']).dt.date\n",
            "<ipython-input-140-1ac5d7321231>:1: FutureWarning: Parsed string \"October 27, 1999 at 12 AM EDT\" included an un-recognized timezone \"EDT\". Dropping unrecognized timezones is deprecated; in a future version this will raise. Instead pass the string without the timezone, then use .tz_localize to convert to a recognized timezone.\n",
            "  aws_positve_earnings_news['Earnings Date'] = pd.to_datetime(aws_positve_earnings_news['Earnings Date']).dt.date\n",
            "<ipython-input-140-1ac5d7321231>:1: FutureWarning: Parsed string \"July 21, 1999 at 12 AM EDT\" included an un-recognized timezone \"EDT\". Dropping unrecognized timezones is deprecated; in a future version this will raise. Instead pass the string without the timezone, then use .tz_localize to convert to a recognized timezone.\n",
            "  aws_positve_earnings_news['Earnings Date'] = pd.to_datetime(aws_positve_earnings_news['Earnings Date']).dt.date\n",
            "<ipython-input-140-1ac5d7321231>:1: FutureWarning: Parsed string \"April 28, 1999 at 12 AM EDT\" included an un-recognized timezone \"EDT\". Dropping unrecognized timezones is deprecated; in a future version this will raise. Instead pass the string without the timezone, then use .tz_localize to convert to a recognized timezone.\n",
            "  aws_positve_earnings_news['Earnings Date'] = pd.to_datetime(aws_positve_earnings_news['Earnings Date']).dt.date\n",
            "<ipython-input-140-1ac5d7321231>:1: FutureWarning: Parsed string \"January 26, 1999 at 12 AM EST\" included an un-recognized timezone \"EST\". Dropping unrecognized timezones is deprecated; in a future version this will raise. Instead pass the string without the timezone, then use .tz_localize to convert to a recognized timezone.\n",
            "  aws_positve_earnings_news['Earnings Date'] = pd.to_datetime(aws_positve_earnings_news['Earnings Date']).dt.date\n",
            "<ipython-input-140-1ac5d7321231>:1: FutureWarning: Parsed string \"October 28, 1998 at 12 AM EST\" included an un-recognized timezone \"EST\". Dropping unrecognized timezones is deprecated; in a future version this will raise. Instead pass the string without the timezone, then use .tz_localize to convert to a recognized timezone.\n",
            "  aws_positve_earnings_news['Earnings Date'] = pd.to_datetime(aws_positve_earnings_news['Earnings Date']).dt.date\n",
            "<ipython-input-140-1ac5d7321231>:1: FutureWarning: Parsed string \"July 22, 1998 at 12 AM EDT\" included an un-recognized timezone \"EDT\". Dropping unrecognized timezones is deprecated; in a future version this will raise. Instead pass the string without the timezone, then use .tz_localize to convert to a recognized timezone.\n",
            "  aws_positve_earnings_news['Earnings Date'] = pd.to_datetime(aws_positve_earnings_news['Earnings Date']).dt.date\n",
            "<ipython-input-140-1ac5d7321231>:1: FutureWarning: Parsed string \"April 27, 1998 at 12 AM EDT\" included an un-recognized timezone \"EDT\". Dropping unrecognized timezones is deprecated; in a future version this will raise. Instead pass the string without the timezone, then use .tz_localize to convert to a recognized timezone.\n",
            "  aws_positve_earnings_news['Earnings Date'] = pd.to_datetime(aws_positve_earnings_news['Earnings Date']).dt.date\n",
            "<ipython-input-140-1ac5d7321231>:1: FutureWarning: Parsed string \"January 22, 1998 at 12 AM EST\" included an un-recognized timezone \"EST\". Dropping unrecognized timezones is deprecated; in a future version this will raise. Instead pass the string without the timezone, then use .tz_localize to convert to a recognized timezone.\n",
            "  aws_positve_earnings_news['Earnings Date'] = pd.to_datetime(aws_positve_earnings_news['Earnings Date']).dt.date\n",
            "<ipython-input-140-1ac5d7321231>:1: FutureWarning: Parsed string \"October 27, 1997 at 12 AM EST\" included an un-recognized timezone \"EST\". Dropping unrecognized timezones is deprecated; in a future version this will raise. Instead pass the string without the timezone, then use .tz_localize to convert to a recognized timezone.\n",
            "  aws_positve_earnings_news['Earnings Date'] = pd.to_datetime(aws_positve_earnings_news['Earnings Date']).dt.date\n",
            "<ipython-input-140-1ac5d7321231>:1: FutureWarning: Parsed string \"July 10, 1997 at 12 AM EDT\" included an un-recognized timezone \"EDT\". Dropping unrecognized timezones is deprecated; in a future version this will raise. Instead pass the string without the timezone, then use .tz_localize to convert to a recognized timezone.\n",
            "  aws_positve_earnings_news['Earnings Date'] = pd.to_datetime(aws_positve_earnings_news['Earnings Date']).dt.date\n"
          ]
        }
      ]
    },
    {
      "cell_type": "code",
      "source": [
        "price_2_day_change_after_eps_news = []\n",
        "\n",
        "for earnings_date in aws_positve_earnings_news['Earnings Date'].values:\n",
        "  price_after_positive_eps_news = aws_price_history[aws_price_history['Date'] > earnings_date].reset_index().loc[0, '2_day_price_pct'] * 100.0\n",
        "  price_2_day_change_after_eps_news.append(price_after_positive_eps_news)"
      ],
      "metadata": {
        "id": "XsIjDiDT4wcb"
      },
      "execution_count": 146,
      "outputs": []
    },
    {
      "cell_type": "code",
      "source": [
        "np.median(price_2_day_change_after_eps_news)"
      ],
      "metadata": {
        "colab": {
          "base_uri": "https://localhost:8080/"
        },
        "id": "D4Vq4q6r5c_H",
        "outputId": "552ad20e-6b67-4d4f-9297-fa8b96d11e03"
      },
      "execution_count": 150,
      "outputs": [
        {
          "output_type": "execute_result",
          "data": {
            "text/plain": [
              "np.float64(1.0405227919253135)"
            ]
          },
          "metadata": {},
          "execution_count": 150
        }
      ]
    },
    {
      "cell_type": "markdown",
      "source": [
        "## Question 5"
      ],
      "metadata": {
        "id": "PaAZtuUd8COi"
      }
    },
    {
      "cell_type": "markdown",
      "source": [
        "ML-driven approach to derive investment strategy that over 1-year horizon can generate gains in the Europe/America stock markets."
      ],
      "metadata": {
        "id": "Zh-MeiAe8Msz"
      }
    },
    {
      "cell_type": "markdown",
      "source": [
        "## Question 6"
      ],
      "metadata": {
        "id": "Ub3HadVz8Ymf"
      }
    },
    {
      "cell_type": "markdown",
      "source": [
        "Financial statements, social media sentiment, macro/sector factors"
      ],
      "metadata": {
        "id": "F4whPxc0-Cbg"
      }
    },
    {
      "cell_type": "code",
      "source": [],
      "metadata": {
        "id": "ezMehyou8Z-z"
      },
      "execution_count": null,
      "outputs": []
    }
  ]
}